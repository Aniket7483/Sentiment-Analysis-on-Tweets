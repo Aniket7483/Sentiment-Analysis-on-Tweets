import pandas as pd
df = pd.read_csv('Corona_NLP_test.csv')
df
